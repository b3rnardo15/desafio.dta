{
 "cells": [
  {
   "cell_type": "markdown",
   "metadata": {},
   "source": [
    "# Desafio Obrigatório – Análise de Dados de Vendas\n",
    "**Autor:** Bernardo Simões  \n",
    "**Data:** 17 de abril de 2025\n",
    "\n",
    "Este notebook resolve o desafio obrigatório proposto na apostila de Estatística para Data Science.\n"
   ]
  },
  {
   "cell_type": "code",
   "execution_count": null,
   "metadata": {},
   "outputs": [],
   "source": [
    "import pandas as pd\n",
    "import numpy as np\n",
    "import os"
   ]
  },
  {
   "cell_type": "code",
   "execution_count": 3,
   "metadata": {},
   "outputs": [],
   "source": [
    "def criar_dados_excel(nome_arquivo):\n",
    "    # Cria um DataFrame com os dados de exemplo\n",
    "    # e salva em um arquivo Excel\n",
    "    data = {\n",
    "        \"Região\": [\"Norte\", \"Norte\", \"Sul\", \"Sul\", \"Norte\"],\n",
    "        \"Mês\": [\"Jan\", \"Fev\", \"Jan\", \"Fev\", \"Mar\"],\n",
    "        \"Vendas\": [1500, np.nan, 2200, 1800, 2000],\n",
    "        \"Despesas\": [300, 250, np.nan, 400, 350]\n",
    "    }\n",
    "\n",
    "    df = pd.DataFrame(data)\n",
    "    df.to_excel(nome_arquivo, index=False, engine=\"openpyxl\")\n",
    "    print(f\"\\nArquivo '{nome_arquivo}' criado com sucesso.\")"
   ]
  },
  {
   "cell_type": "code",
   "execution_count": 5,
   "metadata": {},
   "outputs": [],
   "source": [
    "def carregar_dados(nome_arquivo):\n",
    "    # Lê os dados do arquivo Excel e exibe suas informações básicas\n",
    "    df = pd.read_excel(nome_arquivo)\n",
    "    print(\"\\nDados carregados do arquivo:\")\n",
    "    print(df)\n",
    "    print(\"\\nInformações do DataFrame:\")\n",
    "    print(df.info())\n",
    "    return df"
   ]
  },
  {
   "cell_type": "code",
   "execution_count": 6,
   "metadata": {},
   "outputs": [],
   "source": [
    "def tratar_dados(df):\n",
    "    # Substitui valores ausentes em 'Vendas' com a mediana da coluna\n",
    "    median_vendas = df[\"Vendas\"].median()\n",
    "    df[\"Vendas\"] = df[\"Vendas\"].fillna(median_vendas)\n",
    "\n",
    "    # Substitui valores ausentes em 'Despesas' com a média da coluna\n",
    "    mean_despesas = df[\"Despesas\"].mean()\n",
    "    df[\"Despesas\"] = df[\"Despesas\"].fillna(mean_despesas)\n",
    "\n",
    "    print(\"\\nDados após substituição de valores ausentes:\")\n",
    "    print(df)\n",
    "    return df"
   ]
  },
  {
   "cell_type": "code",
   "execution_count": 7,
   "metadata": {},
   "outputs": [],
   "source": [
    "def gerar_agrupamentos(df):\n",
    "    # Agrupa os dados por Região e Mês, calculando a soma das vendas\n",
    "    soma_vendas = df.groupby([\"Região\", \"Mês\"])[\"Vendas\"].sum()\n",
    "    print(\"\\nSoma total de vendas por região e mês:\")\n",
    "    print(soma_vendas)\n",
    "\n",
    "    # Calcula a média das despesas por Região e Mês\n",
    "    media_despesas = df.groupby([\"Região\", \"Mês\"])[\"Despesas\"].mean()\n",
    "    print(\"\\nMédia de despesas por região e mês:\")\n",
    "    print(media_despesas)"
   ]
  },
  {
   "cell_type": "code",
   "execution_count": 8,
   "metadata": {},
   "outputs": [],
   "source": [
    "def combinar_colunas(df):\n",
    "    # Cria um novo DataFrame com apenas as colunas Vendas e Despesas\n",
    "    df_combinado = pd.concat([df[\"Vendas\"], df[\"Despesas\"]], axis=1)\n",
    "    print(\"\\nDataFrame com colunas Vendas e Despesas combinadas:\")\n",
    "    print(df_combinado)"
   ]
  },
  {
   "cell_type": "code",
   "execution_count": 9,
   "metadata": {},
   "outputs": [],
   "source": [
    "def gerar_sumario(df):\n",
    "    # Exibe estatísticas descritivas para as colunas numéricas\n",
    "    print(\"\\nSumário estatístico para colunas numéricas:\")\n",
    "    print(df.describe())\n",
    "    print(\"\\nMediana das colunas numéricas:\")\n",
    "    print(df.median(numeric_only=True))"
   ]
  },
  {
   "cell_type": "code",
   "execution_count": 10,
   "metadata": {},
   "outputs": [
    {
     "name": "stdout",
     "output_type": "stream",
     "text": [
      "\n",
      "Arquivo 'vendas.xlsx' criado com sucesso.\n",
      "\n",
      "Dados carregados do arquivo:\n",
      "  Região  Mês  Vendas  Despesas\n",
      "0  Norte  Jan  1500.0     300.0\n",
      "1  Norte  Fev     NaN     250.0\n",
      "2    Sul  Jan  2200.0       NaN\n",
      "3    Sul  Fev  1800.0     400.0\n",
      "4  Norte  Mar  2000.0     350.0\n",
      "\n",
      "Informações do DataFrame:\n",
      "<class 'pandas.core.frame.DataFrame'>\n",
      "RangeIndex: 5 entries, 0 to 4\n",
      "Data columns (total 4 columns):\n",
      " #   Column    Non-Null Count  Dtype  \n",
      "---  ------    --------------  -----  \n",
      " 0   Região    5 non-null      object \n",
      " 1   Mês       5 non-null      object \n",
      " 2   Vendas    4 non-null      float64\n",
      " 3   Despesas  4 non-null      float64\n",
      "dtypes: float64(2), object(2)\n",
      "memory usage: 292.0+ bytes\n",
      "None\n",
      "\n",
      "Dados após substituição de valores ausentes:\n",
      "  Região  Mês  Vendas  Despesas\n",
      "0  Norte  Jan  1500.0     300.0\n",
      "1  Norte  Fev  1900.0     250.0\n",
      "2    Sul  Jan  2200.0     325.0\n",
      "3    Sul  Fev  1800.0     400.0\n",
      "4  Norte  Mar  2000.0     350.0\n",
      "\n",
      "Soma total de vendas por região e mês:\n",
      "Região  Mês\n",
      "Norte   Fev    1900.0\n",
      "        Jan    1500.0\n",
      "        Mar    2000.0\n",
      "Sul     Fev    1800.0\n",
      "        Jan    2200.0\n",
      "Name: Vendas, dtype: float64\n",
      "\n",
      "Média de despesas por região e mês:\n",
      "Região  Mês\n",
      "Norte   Fev    250.0\n",
      "        Jan    300.0\n",
      "        Mar    350.0\n",
      "Sul     Fev    400.0\n",
      "        Jan    325.0\n",
      "Name: Despesas, dtype: float64\n",
      "\n",
      "DataFrame com colunas Vendas e Despesas combinadas:\n",
      "   Vendas  Despesas\n",
      "0  1500.0     300.0\n",
      "1  1900.0     250.0\n",
      "2  2200.0     325.0\n",
      "3  1800.0     400.0\n",
      "4  2000.0     350.0\n",
      "\n",
      "Sumário estatístico para colunas numéricas:\n",
      "            Vendas    Despesas\n",
      "count     5.000000    5.000000\n",
      "mean   1880.000000  325.000000\n",
      "std     258.843582   55.901699\n",
      "min    1500.000000  250.000000\n",
      "25%    1800.000000  300.000000\n",
      "50%    1900.000000  325.000000\n",
      "75%    2000.000000  350.000000\n",
      "max    2200.000000  400.000000\n",
      "\n",
      "Mediana das colunas numéricas:\n",
      "Vendas      1900.0\n",
      "Despesas     325.0\n",
      "dtype: float64\n"
     ]
    }
   ],
   "source": [
    "# Execução do fluxo completo\n",
    "nome_arquivo = \"vendas.xlsx\"\n",
    "criar_dados_excel(nome_arquivo)\n",
    "df = carregar_dados(nome_arquivo)\n",
    "df = tratar_dados(df)\n",
    "gerar_agrupamentos(df)\n",
    "combinar_colunas(df)\n",
    "gerar_sumario(df)"
   ]
  }
 ],
 "metadata": {
  "kernelspec": {
   "display_name": "Python 3",
   "language": "python",
   "name": "python3"
  },
  "language_info": {
   "codemirror_mode": {
    "name": "ipython",
    "version": 3
   },
   "file_extension": ".py",
   "mimetype": "text/x-python",
   "name": "python",
   "nbconvert_exporter": "python",
   "pygments_lexer": "ipython3",
   "version": "3.12.9"
  }
 },
 "nbformat": 4,
 "nbformat_minor": 5
}
